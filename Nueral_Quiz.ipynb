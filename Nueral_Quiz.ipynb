{
  "nbformat": 4,
  "nbformat_minor": 0,
  "metadata": {
    "colab": {
      "provenance": [],
      "include_colab_link": true
    },
    "kernelspec": {
      "name": "python3",
      "display_name": "Python 3"
    },
    "language_info": {
      "name": "python"
    },
    "accelerator": "TPU"
  },
  "cells": [
    {
      "cell_type": "markdown",
      "metadata": {
        "id": "view-in-github",
        "colab_type": "text"
      },
      "source": [
        "<a href=\"https://colab.research.google.com/github/charan2909/Quiz/blob/main/Nueral_Quiz.ipynb\" target=\"_parent\"><img src=\"https://colab.research.google.com/assets/colab-badge.svg\" alt=\"Open In Colab\"/></a>"
      ]
    },
    {
      "cell_type": "code",
      "execution_count": 5,
      "metadata": {
        "id": "4xFtoNLAytG8"
      },
      "outputs": [],
      "source": [
        "import numpy as np\n",
        "import matplotlib.pyplot as plt\n",
        "import pandas as pd\n",
        "#import dataset from data.csv file\n",
        "dataset = pd.read_csv('/content/training.csv',delimiter='\\t')\n",
        "dataset = dataset.dropna(subset=[\"Temperature\"])\n",
        "dataset=dataset.reset_index(drop=True)\n",
        "training_set = dataset.iloc[:,1:2].values.reshape(-1,1)\n",
        "\n",
        "#Feature Scaling\n",
        "from sklearn.preprocessing import MinMaxScaler\n",
        "sc = MinMaxScaler(feature_range=(0,1))\n",
        "training_set_scaled = sc.fit_transform(training_set)\n",
        "\n",
        "\n",
        "x_train = []\n",
        "y_train = []\n",
        "n_future = 4 # next 4 days temperature forecast\n",
        "n_past = 30 # Past 30 days\n",
        "for i in range(0,len(training_set_scaled)-n_past-n_future+1):\n",
        "    x_train.append(training_set_scaled[i : i + n_past , 0])\n",
        "    y_train.append(training_set_scaled[i + n_past : i + n_past + n_future , 0 ])\n",
        "x_train , y_train = np.array(x_train), np.array(y_train)\n",
        "x_train = np.reshape(x_train, (x_train.shape[0] , x_train.shape[1], 1) )"
      ]
    },
    {
      "cell_type": "code",
      "source": [],
      "metadata": {
        "id": "YkWxtqM50iwD"
      },
      "execution_count": 5,
      "outputs": []
    },
    {
      "cell_type": "code",
      "source": [
        "from keras.models import Sequential\n",
        "from keras.layers import LSTM,Dense ,Dropout,Bidirectional\n",
        "# Fitting RNN to training set using Keras Callbacks. Read Keras callbacks docs for more info."
      ],
      "metadata": {
        "id": "K4L_KFjUzlZs"
      },
      "execution_count": 6,
      "outputs": []
    },
    {
      "cell_type": "code",
      "source": [
        "regressor = Sequential()\n",
        "regressor.add(Bidirectional(LSTM(units=30, return_sequences=True, input_shape = (x_train.shape[1],1) ) ))\n",
        "regressor.add(Dropout(0.2))\n",
        "regressor.add(LSTM(units= 30 , return_sequences=True))\n",
        "regressor.add(Dropout(0.2))\n",
        "regressor.add(LSTM(units= 30 , return_sequences=True))\n",
        "regressor.add(Dropout(0.2))\n",
        "regressor.add(LSTM(units= 30))\n",
        "regressor.add(Dropout(0.2))\n",
        "regressor.add(Dense(units = n_future,activation='linear'))\n",
        "regressor.compile(optimizer='adam', loss='mean_squared_error',metrics=['acc'])\n",
        "regressor.fit(x_train, y_train, epochs=50,batch_size=32 )"
      ],
      "metadata": {
        "colab": {
          "base_uri": "https://localhost:8080/"
        },
        "id": "wKdNxWvPzRZp",
        "outputId": "46124fa5-6a89-4dd5-b136-121cba60c491"
      },
      "execution_count": null,
      "outputs": [
        {
          "output_type": "stream",
          "name": "stdout",
          "text": [
            "Epoch 1/50\n",
            "95/95 [==============================] - 21s 84ms/step - loss: 0.0318 - acc: 0.2505\n",
            "Epoch 2/50\n",
            "95/95 [==============================] - 8s 80ms/step - loss: 0.0156 - acc: 0.2406\n",
            "Epoch 3/50\n",
            "95/95 [==============================] - 7s 73ms/step - loss: 0.0132 - acc: 0.2551\n",
            "Epoch 4/50\n",
            "95/95 [==============================] - 8s 84ms/step - loss: 0.0121 - acc: 0.2436\n",
            "Epoch 5/50\n",
            "95/95 [==============================] - 7s 72ms/step - loss: 0.0110 - acc: 0.2587\n",
            "Epoch 6/50\n",
            "95/95 [==============================] - 8s 82ms/step - loss: 0.0103 - acc: 0.2558\n",
            "Epoch 7/50\n",
            "95/95 [==============================] - 7s 73ms/step - loss: 0.0097 - acc: 0.2459\n",
            "Epoch 8/50\n",
            "95/95 [==============================] - 9s 91ms/step - loss: 0.0090 - acc: 0.2459\n",
            "Epoch 9/50\n",
            "58/95 [=================>............] - ETA: 2s - loss: 0.0091 - acc: 0.2495"
          ]
        }
      ]
    },
    {
      "cell_type": "code",
      "source": [
        "# read test dataset\n",
        "testdataset = pd.read_csv('/content/testing.csv')\n",
        "#get only the temperature column\n",
        "testdataset = testdataset.iloc[:30,1:2].values\n",
        "real_temperature = pd.read_csv('/content/_testing.csv')\n",
        "real_temperature = real_temperature.iloc[30:,1:2].values\n",
        "testing = sc.transform(testdataset)\n",
        "testing = np.array(testing)\n",
        "testing = np.reshape(testing,(testing.shape[1],testing.shape[0],1))"
      ],
      "metadata": {
        "id": "oa5Uo7IzzvSK"
      },
      "execution_count": null,
      "outputs": []
    },
    {
      "cell_type": "code",
      "source": [
        "predicted_temperature = regressor.predict(testing)\n",
        "predicted_temperature = sc.inverse_transform(predicted_temperature)\n",
        "predicted_temperature = np.reshape(predicted_temperature,(predicted_temperature.shape[1],predicted_temperature.shape[0]))"
      ],
      "metadata": {
        "colab": {
          "base_uri": "https://localhost:8080/"
        },
        "id": "b8Q3YK900VLY",
        "outputId": "a1b8a536-f8c9-454a-fa21-2cb7fcfb4ea9"
      },
      "execution_count": null,
      "outputs": [
        {
          "output_type": "stream",
          "name": "stdout",
          "text": [
            "1/1 [==============================] - 3s 3s/step\n"
          ]
        }
      ]
    },
    {
      "cell_type": "code",
      "source": [
        "real_temperature\n"
      ],
      "metadata": {
        "colab": {
          "base_uri": "https://localhost:8080/"
        },
        "id": "HLwRizuR3xpl",
        "outputId": "711c598b-c327-440b-e9d0-2d15fd3aed9b"
      },
      "execution_count": null,
      "outputs": [
        {
          "output_type": "execute_result",
          "data": {
            "text/plain": [
              "array([[81. ],\n",
              "       [82. ],\n",
              "       [80.5],\n",
              "       [79. ],\n",
              "       [78. ]])"
            ]
          },
          "metadata": {},
          "execution_count": 29
        }
      ]
    },
    {
      "cell_type": "code",
      "source": [
        "predicted_temperature"
      ],
      "metadata": {
        "colab": {
          "base_uri": "https://localhost:8080/"
        },
        "id": "8yt3pVtq3sMG",
        "outputId": "3bc34ad1-7db8-46cf-b2ee-e9ea08322f97"
      },
      "execution_count": null,
      "outputs": [
        {
          "output_type": "execute_result",
          "data": {
            "text/plain": [
              "array([[79.28368],\n",
              "       [78.75407],\n",
              "       [78.41582],\n",
              "       [78.21471]], dtype=float32)"
            ]
          },
          "metadata": {},
          "execution_count": 30
        }
      ]
    },
    {
      "cell_type": "code",
      "source": [],
      "metadata": {
        "id": "592fNSp230Um"
      },
      "execution_count": null,
      "outputs": []
    }
  ]
}